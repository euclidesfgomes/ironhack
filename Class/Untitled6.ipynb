{
 "cells": [
  {
   "cell_type": "code",
   "execution_count": 6,
   "metadata": {},
   "outputs": [],
   "source": [
    "# build a function that takes a list of integers and returns the maximum value of that list\n",
    "\n",
    "def maximum(list):\n",
    "    reference = list[0]\n",
    "    for element in list:\n",
    "        element>reference\n",
    "        reference = element        \n",
    "    return reference\n",
    "\n",
    "# build a function that takes a list of integers and returns the minimum value of that list\n",
    "\n",
    "def minimum(list):\n",
    "    reference = list[0]\n",
    "    for element in list:\n",
    "        element<reference\n",
    "        reference = element\n",
    "    return reference\n",
    "\n",
    "\n",
    "# build a function that takes 2 lists and returns the maximum of the first list minus the minimum of the second one \n",
    "\n",
    "\n",
    "\n",
    "\n",
    "# AND the maximum of the second list minus the minimum of the first one"
   ]
  },
  {
   "cell_type": "code",
   "execution_count": 8,
   "metadata": {},
   "outputs": [
    {
     "data": {
      "text/plain": [
       "2"
      ]
     },
     "execution_count": 8,
     "metadata": {},
     "output_type": "execute_result"
    }
   ],
   "source": [
    "maximum([1, 2, 3, 2])"
   ]
  }
 ],
 "metadata": {
  "kernelspec": {
   "display_name": "Python 3",
   "language": "python",
   "name": "python3"
  },
  "language_info": {
   "codemirror_mode": {
    "name": "ipython",
    "version": 3
   },
   "file_extension": ".py",
   "mimetype": "text/x-python",
   "name": "python",
   "nbconvert_exporter": "python",
   "pygments_lexer": "ipython3",
   "version": "3.8.5"
  }
 },
 "nbformat": 4,
 "nbformat_minor": 4
}
