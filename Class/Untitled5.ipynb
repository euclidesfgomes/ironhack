{
 "cells": [
  {
   "cell_type": "code",
   "execution_count": 6,
   "metadata": {},
   "outputs": [
    {
     "data": {
      "text/plain": [
       "True"
      ]
     },
     "execution_count": 6,
     "metadata": {},
     "output_type": "execute_result"
    }
   ],
   "source": [
    "# do it yourself\n",
    "# define a function that takes a list and returns the number of integers in that list\n",
    "# check if the following 2 lists have the same number of integers\n",
    "\n",
    "list_1 = [1,2,3.0,\"four\",\"five\",6]\n",
    "list_2 = [\"one\",2.0,3,\"four\",\"five\",6,7]\n",
    "\n",
    "def return_integers(ret_int):\n",
    "    count=0\n",
    "    for element in ret_int:\n",
    "        if type(element) == int:\n",
    "                count += 1\n",
    "    return count\n",
    "\n",
    "return_integers([1,2,3.0,\"four\",\"five\",6]) == return_integers([\"one\",2.0,3,\"four\",\"five\",6,7])"
   ]
  },
  {
   "cell_type": "code",
   "execution_count": null,
   "metadata": {},
   "outputs": [],
   "source": []
  }
 ],
 "metadata": {
  "kernelspec": {
   "display_name": "Python 3",
   "language": "python",
   "name": "python3"
  },
  "language_info": {
   "codemirror_mode": {
    "name": "ipython",
    "version": 3
   },
   "file_extension": ".py",
   "mimetype": "text/x-python",
   "name": "python",
   "nbconvert_exporter": "python",
   "pygments_lexer": "ipython3",
   "version": "3.8.5"
  }
 },
 "nbformat": 4,
 "nbformat_minor": 4
}
