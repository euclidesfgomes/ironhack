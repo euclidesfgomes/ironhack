{
 "cells": [
  {
   "cell_type": "code",
   "execution_count": 1,
   "metadata": {},
   "outputs": [
    {
     "data": {
      "text/plain": [
       "{'David': 'Data Education Team',\n",
       " 'Jose': 'Data Education Team & Data Student',\n",
       " 'Euclides': 'Data Student',\n",
       " 'Miguel': 'WebDev Education Team',\n",
       " 'Munique': 'Data Student & Administration Team'}"
      ]
     },
     "execution_count": 1,
     "metadata": {},
     "output_type": "execute_result"
    }
   ],
   "source": [
    "# assign roles to people\n",
    "\n",
    "my_dict = {}\n",
    "my_dict['David'] = \"Data Education Team\"\n",
    "my_dict['Jose'] = \"Data Education Team & Data Student\"\n",
    "my_dict['Euclides'] = \"Data Student\"\n",
    "my_dict['Miguel'] = \"WebDev Education Team\"\n",
    "my_dict['Munique'] = \"Data Student & Administration Team\"\n",
    "my_dict"
   ]
  },
  {
   "cell_type": "code",
   "execution_count": 2,
   "metadata": {},
   "outputs": [
    {
     "data": {
      "text/plain": [
       "'Data Student & Administration Team'"
      ]
     },
     "execution_count": 2,
     "metadata": {},
     "output_type": "execute_result"
    }
   ],
   "source": [
    "my_dict[\"Munique\"]"
   ]
  },
  {
   "cell_type": "code",
   "execution_count": 3,
   "metadata": {},
   "outputs": [
    {
     "data": {
      "text/plain": [
       "[('David', 'Data Education Team'),\n",
       " ('Jose', 'Data Education Team & Data Student'),\n",
       " ('Euclides', 'Data Student'),\n",
       " ('Miguel', 'WebDev Education Team'),\n",
       " ('Munique', 'Data Student & Administration Team')]"
      ]
     },
     "execution_count": 3,
     "metadata": {},
     "output_type": "execute_result"
    }
   ],
   "source": [
    "list(my_dict.items())"
   ]
  },
  {
   "cell_type": "code",
   "execution_count": 4,
   "metadata": {},
   "outputs": [
    {
     "name": "stdout",
     "output_type": "stream",
     "text": [
      "Data Education Team\n"
     ]
    }
   ],
   "source": [
    "a = my_dict.pop(\"David\")\n",
    "print(a)"
   ]
  },
  {
   "cell_type": "code",
   "execution_count": 5,
   "metadata": {},
   "outputs": [],
   "source": [
    "sentence = \"one ring to rule them all one ring to find them one ring to bring them all and in the darkness bind them\""
   ]
  },
  {
   "cell_type": "code",
   "execution_count": 13,
   "metadata": {},
   "outputs": [
    {
     "data": {
      "text/plain": [
       "{'o': 6,\n",
       " 'n': 12,\n",
       " 'e': 10,\n",
       " ' ': 22,\n",
       " 'r': 6,\n",
       " 'i': 7,\n",
       " 'g': 4,\n",
       " 't': 8,\n",
       " 'u': 1,\n",
       " 'l': 5,\n",
       " 'h': 5,\n",
       " 'm': 4,\n",
       " 'a': 4,\n",
       " 'f': 1,\n",
       " 'd': 4,\n",
       " 'b': 2,\n",
       " 'k': 1,\n",
       " 's': 2}"
      ]
     },
     "execution_count": 13,
     "metadata": {},
     "output_type": "execute_result"
    }
   ],
   "source": [
    "count_letters = {}\n",
    "\n",
    "for letters in sentence:\n",
    "    sentence.count(letters)\n",
    "    count_letters[letters] = sentence.count(letters)\n",
    "count_letters"
   ]
  },
  {
   "cell_type": "code",
   "execution_count": 12,
   "metadata": {},
   "outputs": [
    {
     "data": {
      "text/plain": [
       "6"
      ]
     },
     "execution_count": 12,
     "metadata": {},
     "output_type": "execute_result"
    }
   ],
   "source": [
    "count_letters[\"r\"]"
   ]
  },
  {
   "cell_type": "code",
   "execution_count": null,
   "metadata": {},
   "outputs": [],
   "source": [
    "sentence = \"one ring to rule them all one ring to find them one ring to bring them all and in the darkness bind them\"\n",
    "words = "
   ]
  },
  {
   "cell_type": "code",
   "execution_count": 14,
   "metadata": {},
   "outputs": [
    {
     "data": {
      "text/plain": [
       "{'David': 'Data Education Team',\n",
       " 'Jose': 'Data Education Team & Data Student',\n",
       " 'Euclides': 'Data Student',\n",
       " 'Miguel': 'WebDev Education Team',\n",
       " 'Munique': 'Data Student & Administration Team'}"
      ]
     },
     "execution_count": 14,
     "metadata": {},
     "output_type": "execute_result"
    }
   ],
   "source": [
    "# assign roles to people\n",
    "\n",
    "my_dict = {}\n",
    "my_dict['David'] = \"Data Education Team\"\n",
    "my_dict['Jose'] = \"Data Education Team & Data Student\"\n",
    "my_dict['Euclides'] = \"Data Student\"\n",
    "my_dict['Miguel'] = \"WebDev Education Team\"\n",
    "my_dict['Munique'] = \"Data Student & Administration Team\"\n",
    "my_dict"
   ]
  },
  {
   "cell_type": "code",
   "execution_count": 15,
   "metadata": {},
   "outputs": [
    {
     "data": {
      "text/plain": [
       "{'David': ('Data Education Team',),\n",
       " 'Jose': ('Data Education Team', 'Data Student'),\n",
       " 'Euclides': ('Data Student',),\n",
       " 'Miguel': ('WebDev Education Team',),\n",
       " 'Munique': ('Data Student', 'Administration Team')}"
      ]
     },
     "execution_count": 15,
     "metadata": {},
     "output_type": "execute_result"
    }
   ],
   "source": [
    "# welcome to Tuples!\n",
    "my_improved_dict = {}\n",
    "my_improved_dict['David'] = (\"Data Education Team\",)\n",
    "my_improved_dict['Jose'] = (\"Data Education Team\", \"Data Student\")\n",
    "my_improved_dict['Euclides'] = (\"Data Student\",)\n",
    "my_improved_dict['Miguel'] = (\"WebDev Education Team\",)\n",
    "my_improved_dict['Munique'] = (\"Data Student\", \"Administration Team\")\n",
    "my_improved_dict"
   ]
  },
  {
   "cell_type": "code",
   "execution_count": 16,
   "metadata": {},
   "outputs": [],
   "source": [
    "# sets are good for set operations (not surprisingly)\n",
    "# they ignore repeated elements\n",
    "G7 = {\"United States\", \"United Kingdom\", \"Japan\", \"France\", \"Germany\", \"Canada\", \"Italy\"}\n",
    "NA = {\"Antigua and Barbuda\",\"Bahamas\",\"Barbados\",\"Belize\",\"Canada\",\"Costa Rica\",\"Cuba\",\"Mexico\",\"Nicaragua\",\"Panama\",\"Trinidad and Tobago\",\"United States\"}"
   ]
  },
  {
   "cell_type": "code",
   "execution_count": 17,
   "metadata": {},
   "outputs": [
    {
     "data": {
      "text/plain": [
       "{'Canada', 'United States'}"
      ]
     },
     "execution_count": 17,
     "metadata": {},
     "output_type": "execute_result"
    }
   ],
   "source": [
    "G7.intersection(NA)"
   ]
  },
  {
   "cell_type": "code",
   "execution_count": 18,
   "metadata": {},
   "outputs": [
    {
     "data": {
      "text/plain": [
       "{'Antigua and Barbuda',\n",
       " 'Bahamas',\n",
       " 'Barbados',\n",
       " 'Belize',\n",
       " 'Canada',\n",
       " 'Costa Rica',\n",
       " 'Cuba',\n",
       " 'France',\n",
       " 'Germany',\n",
       " 'Italy',\n",
       " 'Japan',\n",
       " 'Mexico',\n",
       " 'Nicaragua',\n",
       " 'Panama',\n",
       " 'Trinidad and Tobago',\n",
       " 'United Kingdom',\n",
       " 'United States'}"
      ]
     },
     "execution_count": 18,
     "metadata": {},
     "output_type": "execute_result"
    }
   ],
   "source": [
    "G7.union(NA)"
   ]
  },
  {
   "cell_type": "code",
   "execution_count": 19,
   "metadata": {},
   "outputs": [
    {
     "data": {
      "text/plain": [
       "{'France', 'Germany', 'Italy', 'Japan', 'United Kingdom'}"
      ]
     },
     "execution_count": 19,
     "metadata": {},
     "output_type": "execute_result"
    }
   ],
   "source": [
    "G7.difference(NA)"
   ]
  },
  {
   "cell_type": "code",
   "execution_count": 20,
   "metadata": {},
   "outputs": [
    {
     "data": {
      "text/plain": [
       "{'Antigua and Barbuda',\n",
       " 'Bahamas',\n",
       " 'Barbados',\n",
       " 'Belize',\n",
       " 'Costa Rica',\n",
       " 'Cuba',\n",
       " 'Mexico',\n",
       " 'Nicaragua',\n",
       " 'Panama',\n",
       " 'Trinidad and Tobago'}"
      ]
     },
     "execution_count": 20,
     "metadata": {},
     "output_type": "execute_result"
    }
   ],
   "source": [
    "NA.difference(G7)"
   ]
  },
  {
   "cell_type": "code",
   "execution_count": 21,
   "metadata": {},
   "outputs": [
    {
     "data": {
      "text/plain": [
       "{'David': {'Data Education Team'},\n",
       " 'Jose': {'Data Education Team', 'Data Student'},\n",
       " 'Euclides': {'Data Student'},\n",
       " 'Miguel': {'WebDev Education Team'},\n",
       " 'Munique': {'Administration Team', 'Data Student'}}"
      ]
     },
     "execution_count": 21,
     "metadata": {},
     "output_type": "execute_result"
    }
   ],
   "source": [
    "my_improved_dict = {}\n",
    "my_improved_dict['David'] = {\"Data Education Team\"}\n",
    "my_improved_dict['Jose'] = {\"Data Education Team\", \"Data Student\"}\n",
    "my_improved_dict['Euclides'] = {\"Data Student\"}\n",
    "my_improved_dict['Miguel'] = {\"WebDev Education Team\"}\n",
    "my_improved_dict['Munique'] = {\"Data Student\", \"Administration Team\"}\n",
    "my_improved_dict"
   ]
  },
  {
   "cell_type": "code",
   "execution_count": 25,
   "metadata": {},
   "outputs": [
    {
     "data": {
      "text/plain": [
       "{'Data Student'}"
      ]
     },
     "execution_count": 25,
     "metadata": {},
     "output_type": "execute_result"
    }
   ],
   "source": [
    "my_improved_dict[\"Jose\"].intersection(my_improved_dict[\"Munique\"])"
   ]
  },
  {
   "cell_type": "code",
   "execution_count": 26,
   "metadata": {},
   "outputs": [
    {
     "data": {
      "text/plain": [
       "{'Administration Team'}"
      ]
     },
     "execution_count": 26,
     "metadata": {},
     "output_type": "execute_result"
    }
   ],
   "source": [
    "my_improved_dict[\"Munique\"].difference(my_improved_dict[\"Jose\"])"
   ]
  },
  {
   "cell_type": "code",
   "execution_count": null,
   "metadata": {},
   "outputs": [],
   "source": []
  }
 ],
 "metadata": {
  "kernelspec": {
   "display_name": "Python 3",
   "language": "python",
   "name": "python3"
  },
  "language_info": {
   "codemirror_mode": {
    "name": "ipython",
    "version": 3
   },
   "file_extension": ".py",
   "mimetype": "text/x-python",
   "name": "python",
   "nbconvert_exporter": "python",
   "pygments_lexer": "ipython3",
   "version": "3.8.5"
  }
 },
 "nbformat": 4,
 "nbformat_minor": 4
}
